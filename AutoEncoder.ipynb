{
  "nbformat": 4,
  "nbformat_minor": 0,
  "metadata": {
    "colab": {
      "provenance": []
    },
    "kernelspec": {
      "name": "python3",
      "display_name": "Python 3"
    },
    "language_info": {
      "name": "python"
    }
  },
  "cells": [
    {
      "cell_type": "code",
      "execution_count": 1,
      "metadata": {
        "id": "uR8NVpINlNHZ"
      },
      "outputs": [],
      "source": [
        "import tensorflow as tf\n",
        "from tensorflow import keras\n",
        "import matplotlib.pyplot as plt\n",
        "import cv2\n",
        "import numpy as np"
      ]
    },
    {
      "cell_type": "code",
      "source": [
        "(x_train, y_train),(x_test, y_test) = tf.keras.datasets.mnist.load_data()  # loading mnist dataset\n",
        "\n",
        "x_train = x_train/255.0  # scaling the pixel values to the range 0 to 1\n",
        "x_test = x_test/255.0  # scaling the pixel values to the range 0 to 1"
      ],
      "metadata": {
        "id": "YkEYzG9_lPy4"
      },
      "execution_count": 2,
      "outputs": []
    },
    {
      "cell_type": "code",
      "source": [
        "encoderIn = keras.Input(shape=(28, 28, 1), name='img') # Initialzing the encoder input image at input layer\n",
        "x = keras.layers.Flatten()(encoderIn) #Flattening the input image from 3d to 1D array\n",
        "encoderOut = keras.layers.Dense(64, activation=\"relu\")(x) # outputing the encoded img at output layer,compressing the img\n",
        "encoder = keras.Model(encoderIn, encoderOut, name='encoder') # Initializing the encoder"
      ],
      "metadata": {
        "id": "fIWIIkT5lTiQ"
      },
      "execution_count": 3,
      "outputs": []
    },
    {
      "cell_type": "code",
      "source": [
        "decoderIn = keras.layers.Dense(64, activation=\"relu\")(encoderOut) # Initialzing the decoder input layer. Input is putput from output layer of encoder\n",
        "x = keras.layers.Dense(784, activation=\"relu\")(decoderIn) #Decompressing the image\n",
        "decoderOut = keras.layers.Reshape((28, 28, 1))(x) #Reshaping the image to original configuration at Decoder Output layer\n",
        "\n"
      ],
      "metadata": {
        "id": "L0kTYjS9lX2X"
      },
      "execution_count": 4,
      "outputs": []
    },
    {
      "cell_type": "code",
      "source": [
        "opt = tf.keras.optimizers.Adam(learning_rate=0.001) #Configuring with Adam optimisers with learning rate\n",
        "\n",
        "autoencoder = keras.Model(encoderIn, decoderOut, name='autoencoder') #Initializinf autoencoder from encoder input to decoder output alyer\n",
        "autoencoder.summary()\n",
        "\n",
        "autoencoder.compile(opt, loss='mse') #Compiling with mean square error as loss function\n",
        "\n",
        "epochs=8\n",
        "\n",
        "for epoch in range(epochs):\n",
        "\n",
        "    history = autoencoder.fit(\n",
        "      x_train,\n",
        "      x_train,\n",
        "      epochs=1,\n",
        "      batch_size=32, validation_split=0.10 # Dividing the dataset into 90:10 ratio of training and validation set. Dividing the training data into batches of 32 for each iteration of training and repeating the entire cycle epoch number of times\n",
        "        )\n",
        "    autoencoder.save(f\"models/AE-{epoch+1}.model\")"
      ],
      "metadata": {
        "colab": {
          "base_uri": "https://localhost:8080/"
        },
        "id": "xf1V_m1BlbvW",
        "outputId": "528d2da0-1542-4b7a-e55e-d6c9779d5351"
      },
      "execution_count": 5,
      "outputs": [
        {
          "output_type": "stream",
          "name": "stdout",
          "text": [
            "Model: \"autoencoder\"\n",
            "_________________________________________________________________\n",
            " Layer (type)                Output Shape              Param #   \n",
            "=================================================================\n",
            " img (InputLayer)            [(None, 28, 28, 1)]       0         \n",
            "                                                                 \n",
            " flatten (Flatten)           (None, 784)               0         \n",
            "                                                                 \n",
            " dense (Dense)               (None, 64)                50240     \n",
            "                                                                 \n",
            " dense_1 (Dense)             (None, 64)                4160      \n",
            "                                                                 \n",
            " dense_2 (Dense)             (None, 784)               50960     \n",
            "                                                                 \n",
            " reshape (Reshape)           (None, 28, 28, 1)         0         \n",
            "                                                                 \n",
            "=================================================================\n",
            "Total params: 105360 (411.56 KB)\n",
            "Trainable params: 105360 (411.56 KB)\n",
            "Non-trainable params: 0 (0.00 Byte)\n",
            "_________________________________________________________________\n",
            "1688/1688 [==============================] - 6s 3ms/step - loss: 0.0212 - val_loss: 0.0148\n",
            "1688/1688 [==============================] - 5s 3ms/step - loss: 0.0141 - val_loss: 0.0136\n",
            "1688/1688 [==============================] - 5s 3ms/step - loss: 0.0133 - val_loss: 0.0131\n",
            "1688/1688 [==============================] - 5s 3ms/step - loss: 0.0129 - val_loss: 0.0128\n",
            "1688/1688 [==============================] - 7s 4ms/step - loss: 0.0127 - val_loss: 0.0126\n",
            "1688/1688 [==============================] - 6s 4ms/step - loss: 0.0125 - val_loss: 0.0125\n",
            "1688/1688 [==============================] - 5s 3ms/step - loss: 0.0124 - val_loss: 0.0126\n",
            "1688/1688 [==============================] - 5s 3ms/step - loss: 0.0124 - val_loss: 0.0124\n"
          ]
        }
      ]
    },
    {
      "cell_type": "code",
      "source": [
        "temp = encoder.predict([ x_test[0].reshape(-1, 28, 28, 1)]) # compressing the img via encoder\n",
        "\n",
        "print(temp[0].shape)\n",
        "print(temp[0])\n",
        "plt.imshow(temp[0].reshape((8,8)), cmap=\"gray\") # Displaying the compressed image\n"
      ],
      "metadata": {
        "colab": {
          "base_uri": "https://localhost:8080/",
          "height": 673
        },
        "id": "eRIobm1zlwtb",
        "outputId": "52051979-8db6-4182-85c8-13568c6d88e9"
      },
      "execution_count": 6,
      "outputs": [
        {
          "output_type": "stream",
          "name": "stdout",
          "text": [
            "1/1 [==============================] - 0s 82ms/step\n",
            "(64,)\n",
            "[1.3012393  1.4172546  0.5551818  1.3472037  1.3698832  0.\n",
            " 2.361962   2.0305023  0.79748046 0.         1.1520969  1.265698\n",
            " 2.5982985  1.9275384  1.0251279  0.7901358  1.1921165  2.573753\n",
            " 0.24360457 0.16010076 1.0303648  1.4867778  0.45418966 1.4115615\n",
            " 1.0215459  1.626616   1.6735635  1.6114279  0.7604105  1.850636\n",
            " 0.         0.01725012 1.0822252  1.0566431  0.628216   1.0048419\n",
            " 1.1412739  1.2216544  2.490753   0.6280825  0.         0.38181785\n",
            " 0.4708249  0.63429505 0.874293   0.9941753  1.6820482  1.78038\n",
            " 1.1341031  0.2257504  0.882957   0.7016449  2.0055249  0.30011082\n",
            " 0.75987864 1.2526641  1.0263829  0.         0.91359025 1.1399776\n",
            " 1.4962407  0.         1.9232255  0.3031106 ]\n"
          ]
        },
        {
          "output_type": "execute_result",
          "data": {
            "text/plain": [
              "<matplotlib.image.AxesImage at 0x796e871b26b0>"
            ]
          },
          "metadata": {},
          "execution_count": 6
        },
        {
          "output_type": "display_data",
          "data": {
            "text/plain": [
              "<Figure size 640x480 with 1 Axes>"
            ],
            "image/png": "[encoded data removed]"
          },
          "metadata": {}
        }
      ]
    },
    {
      "cell_type": "code",
      "source": [
        "plt.imshow(x_test[0], cmap=\"gray\") # Image without compression"
      ],
      "metadata": {
        "colab": {
          "base_uri": "https://localhost:8080/",
          "height": 447
        },
        "id": "FWVyA0DYno8Y",
        "outputId": "e21e26c1-89c9-4f1c-c1bd-5df0840c51c9"
      },
      "execution_count": 7,
      "outputs": [
        {
          "output_type": "execute_result",
          "data": {
            "text/plain": [
              "<matplotlib.image.AxesImage at 0x796e873b7fa0>"
            ]
          },
          "metadata": {},
          "execution_count": 7
        },
        {
          "output_type": "display_data",
          "data": {
            "text/plain": [
              "<Figure size 640x480 with 1 Axes>"
            ],
            "image/png": "[encoded data removed]"
          },
          "metadata": {}
        }
      ]
    },
    {
      "cell_type": "code",
      "source": [
        "ae_out = autoencoder.predict([x_test[0].reshape(-1, 28, 28, 1) ]) # Using autoencoder to first compress and then reconstruct the original image\n",
        "img = ae_out[0]  # predict is done on a vector, and returns a vector, even if its just 1 element, so we still need to grab the 0th\n",
        "plt.imshow(ae_out[0], cmap=\"gray\") # Displaying reconstucted original image"
      ],
      "metadata": {
        "colab": {
          "base_uri": "https://localhost:8080/",
          "height": 465
        },
        "id": "HjTX9pqGlzLE",
        "outputId": "45534a37-3341-42bf-fee5-493ee1f9f0a2"
      },
      "execution_count": 8,
      "outputs": [
        {
          "output_type": "stream",
          "name": "stdout",
          "text": [
            "1/1 [==============================] - 0s 72ms/step\n"
          ]
        },
        {
          "output_type": "execute_result",
          "data": {
            "text/plain": [
              "<matplotlib.image.AxesImage at 0x796e86d59210>"
            ]
          },
          "metadata": {},
          "execution_count": 8
        },
        {
          "output_type": "display_data",
          "data": {
            "text/plain": [
              "<Figure size 640x480 with 1 Axes>"
            ],
            "image/png": "[encoded data removed]"
          },
          "metadata": {}
        }
      ]
    }
  ]
}